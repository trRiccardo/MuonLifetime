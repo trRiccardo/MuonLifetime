{
 "cells": [
  {
   "cell_type": "code",
   "execution_count": 80,
   "metadata": {},
   "outputs": [],
   "source": [
    "import os\n",
    "import numpy as np\n",
    "import pandas as pd\n",
    "from glob import glob\n",
    "from datetime import datetime\n",
    "import scipy as sp\n",
    "import scipy.optimize as op\n",
    "import matplotlib.pyplot as plt\n",
    "import matplotlib as mpl\n",
    "from matplotlib import gridspec\n",
    "from matplotlib.ticker import AutoMinorLocator, MultipleLocator\n",
    "%matplotlib inline"
   ]
  },
  {
   "cell_type": "code",
   "execution_count": 81,
   "metadata": {},
   "outputs": [],
   "source": [
    "def set_ticks(ax, xMin, yMin, ax2, y2Min):\n",
    "\n",
    "    # first axis\n",
    "    ax.tick_params(which='major', right=False, width=1.0, length=8, direction=\"in\", labelsize=12)\n",
    "    ax.tick_params(which='minor', right=False, width=1.0, length=4, direction=\"in\", labelsize=12)\n",
    "    ax.xaxis.set_minor_locator(AutoMinorLocator(xMin))\n",
    "    ax.yaxis.set_minor_locator(AutoMinorLocator(yMin))\n",
    "\n",
    "    # second axis\n",
    "    ax2.tick_params(which='major', right=True, width=1.0, length=8, direction=\"in\", labelsize=12, color='firebrick')\n",
    "    ax2.tick_params(which='minor', right=True, width=1.0, length=4, direction=\"in\", labelsize=12)\n",
    "    ax2.yaxis.set_minor_locator(AutoMinorLocator(y2Min))   "
   ]
  },
  {
   "cell_type": "code",
   "execution_count": 82,
   "metadata": {},
   "outputs": [],
   "source": [
    "def pdf(t, a_m, r, tau_p, tau_m, b):\n",
    "    a_p = r * a_m\n",
    "    exp_p = a_p * np.exp(-t/tau_p)\n",
    "    exp_m = a_m * np.exp(-t/tau_m)\n",
    "    return exp_p + exp_m + b \n",
    "\n",
    "\n",
    "def inv_cdf(u, tau):\n",
    "    t = - tau*(np.log(1-x))\n",
    "    return t"
   ]
  },
  {
   "cell_type": "code",
   "execution_count": 83,
   "metadata": {},
   "outputs": [],
   "source": [
    "# constants \n",
    "tau_p = 2.1969811 # us (mu+)\n",
    "tau_m = 0.8546    # us (mu-)\n",
    "\n",
    "a_m = 0.5 * 3600 * 24 * 7 # decays in one week (assuming 0.5 Hz)\n",
    "b = 6 * tau_p             # baseline starting point at 6*tau\n",
    "r = 1.3                   # ratio between mu+/mu-"
   ]
  },
  {
   "cell_type": "code",
   "execution_count": 97,
   "metadata": {},
   "outputs": [],
   "source": [
    "def generate_spectrum(dist,limits,N):\n",
    "    \n",
    "    # extremes in x direction \n",
    "    u1 = limits[0] # minimum of x sampling \n",
    "    u2 = limits[1] # maximum of x sampling \n",
    "\n",
    "    u = np.random.uniform(u1,u2,5*N)\n",
    "\n",
    "    lower = 0                                       # accept-reject minimum for each point\n",
    "    upper = np.max(pdf(u, a_m, r, tau_p, tau_m, b)) # accept-reject maximum for each point \n",
    "\n",
    "    v = np.random.uniform(lower, upper, 5*N)\n",
    "\n",
    "    # accepted points \n",
    "    points = u[v < pdf(u, a_m, r, tau_p, tau_m, b)]\n",
    "    # compute acceptance ratio \n",
    "    efficiency = len(points) / (5*N)\n",
    "\n",
    "    # keep only N events if we have more \n",
    "    if len(points) >= N:\n",
    "        points = points[:N]\n",
    "    else:\n",
    "        print('The wanted number of events is %1.0f'% N )\n",
    "        print('The number of generated events is %1.0f' % len(points))\n",
    "\n",
    "    return points, efficiency "
   ]
  },
  {
   "cell_type": "code",
   "execution_count": 114,
   "metadata": {},
   "outputs": [
    {
     "name": "stdout",
     "output_type": "stream",
     "text": [
      "The wanted number of events is 302400\n",
      "The number of generated events is 158540\n",
      "\n",
      "Efficiency: 10 %\n"
     ]
    }
   ],
   "source": [
    "samples, eff = generate_spectrum(pdf,(0.,7*tau_p),int(a_m))\n",
    "\n",
    "print('\\nEfficiency: {:1.0f} %'.format(eff*100))"
   ]
  },
  {
   "cell_type": "code",
   "execution_count": 116,
   "metadata": {},
   "outputs": [
    {
     "data": {
      "image/png": "[encoded data removed]",
      "text/plain": [
       "<Figure size 576x432 with 1 Axes>"
      ]
     },
     "metadata": {
      "needs_background": "light"
     },
     "output_type": "display_data"
    }
   ],
   "source": [
    "fig, ax = plt.subplots(figsize=(8,6))\n",
    "n, bins, _ = ax.hist(samples, fc='royalblue', alpha=0.2, label='Simulated spectrum', bins=400)\n",
    "ax.hist(samples, histtype='step', ec='navy', lw=2, bins=400)\n",
    "\n",
    "bin_width = bins[1] - bins[0]\n",
    "\n",
    "# ticks\n",
    "ax.tick_params(which='major', right=False, width=1.0, length=8, direction='in', labelsize=12)\n",
    "ax.tick_params(which='minor', right=False, width=1.0, length=4, direction='in', labelsize=12)\n",
    "ax.xaxis.set_minor_locator(AutoMinorLocator(0.1))\n",
    "ax.yaxis.set_minor_locator(AutoMinorLocator(0.25))\n",
    "ax.minorticks_on()\n",
    "\n",
    "# labels\n",
    "ax.set_xlabel('Time [$\\mu$s]', fontsize=14)\n",
    "ax.set_ylabel('Counts / %1.2f $\\mu$s' % bin_width, fontsize=14)\n",
    "\n",
    "# legend\n",
    "ax.legend(loc=0, frameon=False, fontsize=14)\n",
    "\n",
    "plt.show()"
   ]
  }
 ],
 "metadata": {
  "interpreter": {
   "hash": "aee8b7b246df8f9039afb4144a1f6fd8d2ca17a180786b69acc140d282b71a49"
  },
  "kernelspec": {
   "display_name": "Python 3.9.12 64-bit",
   "language": "python",
   "name": "python3"
  },
  "language_info": {
   "codemirror_mode": {
    "name": "ipython",
    "version": 3
   },
   "file_extension": ".py",
   "mimetype": "text/x-python",
   "name": "python",
   "nbconvert_exporter": "python",
   "pygments_lexer": "ipython3",
   "version": "3.9.12"
  },
  "orig_nbformat": 4
 },
 "nbformat": 4,
 "nbformat_minor": 2
}
