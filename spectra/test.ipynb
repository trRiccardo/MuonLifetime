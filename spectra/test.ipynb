{
 "cells": [
  {
   "cell_type": "code",
   "execution_count": 1,
   "metadata": {},
   "outputs": [],
   "source": [
    "import os\n",
    "import numpy as np\n",
    "import pandas as pd\n",
    "from glob import glob\n",
    "from datetime import datetime\n",
    "import scipy as sp\n",
    "import scipy.optimize as op\n",
    "import matplotlib.pyplot as plt\n",
    "import matplotlib as mpl\n",
    "from matplotlib import gridspec\n",
    "from matplotlib.ticker import AutoMinorLocator, MultipleLocator\n",
    "from scipy.stats import norm\n",
    "from scipy.special import factorial\n",
    "\n",
    "%matplotlib inline"
   ]
  },
  {
   "cell_type": "code",
   "execution_count": 2,
   "metadata": {},
   "outputs": [],
   "source": [
    "start = np.loadtxt(\"data_start.dat\")"
   ]
  },
  {
   "cell_type": "code",
   "execution_count": 3,
   "metadata": {},
   "outputs": [],
   "source": [
    "#Define the Gaussian function\n",
    "def gauss(x, A, x0, sigma):\n",
    "    return A * np.exp(-(x - x0) ** 2 / (2 * sigma ** 2))"
   ]
  },
  {
   "cell_type": "code",
   "execution_count": 6,
   "metadata": {},
   "outputs": [
    {
     "ename": "NameError",
     "evalue": "name 'fit_function' is not defined",
     "output_type": "error",
     "traceback": [
      "\u001b[0;31m---------------------------------------------------------------------------\u001b[0m",
      "\u001b[0;31mNameError\u001b[0m                                 Traceback (most recent call last)",
      "\u001b[1;32m/Users/vanessacerrone/Desktop/Magistrale/MuonLifetime/spectra/test.ipynb Cell 4\u001b[0m in \u001b[0;36m<cell line: 16>\u001b[0;34m()\u001b[0m\n\u001b[1;32m     <a href='vscode-notebook-cell:/Users/vanessacerrone/Desktop/Magistrale/MuonLifetime/spectra/test.ipynb#W3sZmlsZQ%3D%3D?line=12'>13</a>\u001b[0m bin_width \u001b[39m=\u001b[39m bins[\u001b[39m1\u001b[39m] \u001b[39m-\u001b[39m bins[\u001b[39m0\u001b[39m]\n\u001b[1;32m     <a href='vscode-notebook-cell:/Users/vanessacerrone/Desktop/Magistrale/MuonLifetime/spectra/test.ipynb#W3sZmlsZQ%3D%3D?line=14'>15</a>\u001b[0m \u001b[39m# fit with curve_fit\u001b[39;00m\n\u001b[0;32m---> <a href='vscode-notebook-cell:/Users/vanessacerrone/Desktop/Magistrale/MuonLifetime/spectra/test.ipynb#W3sZmlsZQ%3D%3D?line=15'>16</a>\u001b[0m parameters, cov_matrix \u001b[39m=\u001b[39m op\u001b[39m.\u001b[39mcurve_fit(fit_function, xdata\u001b[39m=\u001b[39mx, ydata\u001b[39m=\u001b[39mn, p0\u001b[39m=\u001b[39m\u001b[39m600\u001b[39m)\n\u001b[1;32m     <a href='vscode-notebook-cell:/Users/vanessacerrone/Desktop/Magistrale/MuonLifetime/spectra/test.ipynb#W3sZmlsZQ%3D%3D?line=17'>18</a>\u001b[0m \u001b[39m# plot poisson-deviation with fitted parameter\u001b[39;00m\n\u001b[1;32m     <a href='vscode-notebook-cell:/Users/vanessacerrone/Desktop/Magistrale/MuonLifetime/spectra/test.ipynb#W3sZmlsZQ%3D%3D?line=18'>19</a>\u001b[0m x_plot \u001b[39m=\u001b[39m np\u001b[39m.\u001b[39marange(x\u001b[39m.\u001b[39mmin(),x\u001b[39m.\u001b[39mmax(),\u001b[39m100\u001b[39m)\n",
      "\u001b[0;31mNameError\u001b[0m: name 'fit_function' is not defined"
     ]
    },
    {
     "data": {
      "image/png": "[encoded data removed]",
      "text/plain": [
       "<Figure size 700x700 with 1 Axes>"
      ]
     },
     "metadata": {},
     "output_type": "display_data"
    }
   ],
   "source": [
    "fig, ax = plt.subplots(figsize=(7, 7))\n",
    "\n",
    "ax.hist(start, fc='royalblue', alpha=0.2, label='START', bins=11, density=True)\n",
    "n, bins , _ = ax.hist(start, histtype='step', ec='navy', lw=2, bins=11,  density=True)\n",
    "\n",
    "# array of bin centers\n",
    "x = np.array([0.5 * (bins[i] + bins[i+1]) for i in range(len(bins) - 1)])\n",
    "\n",
    "# set Poisson uncertainty on each bin   \n",
    "poisson_err =  np.sqrt(n)  \n",
    "\n",
    "# bin width \n",
    "bin_width = bins[1] - bins[0]\n",
    "\n",
    "# fit with curve_fit\n",
    "parameters, cov_matrix = op.curve_fit(fit_function, xdata=x, ydata=n, p0=600)\n",
    "\n",
    "# plot poisson-deviation with fitted parameter\n",
    "x_plot = np.arange(x.min(),x.max(),100)\n",
    "\n",
    "ax.plot(x_plot,fit_function(x_plot, *parameters), linestyle='-',label='Fit result')\n",
    "\n",
    "ax.errorbar(x, n, yerr=poisson_err, label='Data points', marker = 'o',markerfacecolor = 'black',\n",
    "                                markeredgecolor = 'black',markersize=5, lw = 0, ecolor='black', elinewidth=2, capsize=2)\n",
    "\n",
    "# ticks\n",
    "ax.tick_params(which='major', right=False, width=1.0, length=8, direction=\"in\", labelsize=12)\n",
    "ax.tick_params(which='minor', right=False, width=1.0, length=4, direction=\"in\", labelsize=12)\n",
    "ax.xaxis.set_minor_locator(AutoMinorLocator(0.1))\n",
    "ax.yaxis.set_minor_locator(AutoMinorLocator(0.25))\n",
    "\n",
    "# labels\n",
    "ax.set_xlabel(\"START rate [Hz]\", fontsize=14)\n",
    "ax.set_ylabel(\"Counts / %1.1f Hz\"%bin_width, fontsize=14)\n",
    "\n",
    "# legend\n",
    "ax.legend(loc=0, frameon=False, fontsize=14)\n",
    "\n",
    "plt.show()"
   ]
  },
  {
   "cell_type": "code",
   "execution_count": 8,
   "metadata": {},
   "outputs": [],
   "source": [
    "import numpy as np\n",
    "y = np.argmax(x)"
   ]
  },
  {
   "cell_type": "code",
   "execution_count": 10,
   "metadata": {},
   "outputs": [
    {
     "data": {
      "text/plain": [
       "0.005507343124165543"
      ]
     },
     "execution_count": 10,
     "metadata": {},
     "output_type": "execute_result"
    }
   ],
   "source": [
    "n[y]"
   ]
  },
  {
   "cell_type": "code",
   "execution_count": null,
   "metadata": {},
   "outputs": [],
   "source": []
  }
 ],
 "metadata": {
  "interpreter": {
   "hash": "aee8b7b246df8f9039afb4144a1f6fd8d2ca17a180786b69acc140d282b71a49"
  },
  "kernelspec": {
   "display_name": "Python 3.9.12 64-bit",
   "language": "python",
   "name": "python3"
  },
  "language_info": {
   "codemirror_mode": {
    "name": "ipython",
    "version": 3
   },
   "file_extension": ".py",
   "mimetype": "text/x-python",
   "name": "python",
   "nbconvert_exporter": "python",
   "pygments_lexer": "ipython3",
   "version": "3.10.7"
  },
  "orig_nbformat": 4
 },
 "nbformat": 4,
 "nbformat_minor": 2
}
