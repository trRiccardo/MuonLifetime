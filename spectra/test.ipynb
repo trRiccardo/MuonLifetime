{
 "cells": [
  {
   "cell_type": "code",
   "execution_count": 19,
   "metadata": {},
   "outputs": [],
   "source": [
    "import os\n",
    "import numpy as np\n",
    "import pandas as pd\n",
    "from glob import glob\n",
    "from datetime import datetime\n",
    "import scipy as sp\n",
    "import scipy.optimize as op\n",
    "import matplotlib.pyplot as plt\n",
    "import matplotlib as mpl\n",
    "from matplotlib import gridspec\n",
    "from matplotlib.ticker import AutoMinorLocator, MultipleLocator\n",
    "%matplotlib inline"
   ]
  },
  {
   "cell_type": "code",
   "execution_count": 35,
   "metadata": {},
   "outputs": [],
   "source": [
    "start = np.loadtxt(\"data_start.dat\")"
   ]
  },
  {
   "cell_type": "code",
   "execution_count": 41,
   "metadata": {},
   "outputs": [
    {
     "data": {
      "text/plain": [
       "<matplotlib.legend.Legend at 0x7f272afe8fd0>"
      ]
     },
     "execution_count": 41,
     "metadata": {},
     "output_type": "execute_result"
    },
    {
     "data": {
      "image/png": "[encoded data removed]",
      "text/plain": [
       "<Figure size 504x504 with 1 Axes>"
      ]
     },
     "metadata": {
      "needs_background": "light"
     },
     "output_type": "display_data"
    }
   ],
   "source": [
    "fig, ax = plt.subplots(figsize=(7, 7))\n",
    "ax.hist(start, fc='forestgreen', alpha=0.2, label='START', bins=12)\n",
    "ax.hist(start, histtype='step', ec='forestgreen', lw=3, bins=12)\n",
    "\n",
    "# ticks\n",
    "ax.tick_params(which='major', right=False, width=1.0, length=8, direction=\"in\", labelsize=12)\n",
    "ax.tick_params(which='minor', right=False, width=1.0, length=4, direction=\"in\", labelsize=12)\n",
    "ax.xaxis.set_minor_locator(AutoMinorLocator(0.1))\n",
    "ax.yaxis.set_minor_locator(AutoMinorLocator(0.25))\n",
    "\n",
    "# labels\n",
    "ax.set_xlabel(\"START rate [Hz]\", fontsize=14)\n",
    "ax.set_ylabel(\"Counts\", fontsize=14)\n",
    "\n",
    "# legend\n",
    "ax.legend(loc=(0, 1), frameon=False, fontsize=14)"
   ]
  }
 ],
 "metadata": {
  "interpreter": {
   "hash": "aee8b7b246df8f9039afb4144a1f6fd8d2ca17a180786b69acc140d282b71a49"
  },
  "kernelspec": {
   "display_name": "Python 3.9.12 64-bit",
   "language": "python",
   "name": "python3"
  },
  "language_info": {
   "codemirror_mode": {
    "name": "ipython",
    "version": 3
   },
   "file_extension": ".py",
   "mimetype": "text/x-python",
   "name": "python",
   "nbconvert_exporter": "python",
   "pygments_lexer": "ipython3",
   "version": "3.9.12"
  },
  "orig_nbformat": 4
 },
 "nbformat": 4,
 "nbformat_minor": 2
}
